{
 "cells": [
  {
   "cell_type": "code",
   "execution_count": null,
   "metadata": {},
   "outputs": [
    {
     "name": "stdout",
     "output_type": "stream",
     "text": [
      "6.667476415634155\n"
     ]
    }
   ],
   "source": [
    "import robot_color_tracking as track\n",
    "import time\n",
    "import numpy as np\n",
    "\n",
    "#tracker = track.GeometricTrack(areaBounds = (200, 20000),binaryThreshold= 70, segmentMethod='multipleColors', color=['red', 'yellow', 'blue', 'green'] , debug=True)\n",
    "#tracker = track.HoughColorTrack(binaryThreshold = 80, hueTolerance = 10, debug=True, nbr_colors=4)\n",
    "#tracker = track.ColorTrack(binaryThreshold = 80, hueTolerance = 70,kernel = np.ones((10,10)), nbr_colors=4)\n",
    "#track.GeometricTrack(areaBounds = (200, 20000),binaryThreshold= 70, segmentMethod='multipleColors', color=['red', 'yellow', 'blue', 'green'] , debug=True)\n",
    "\n",
    "inicio = time.time()\n",
    "tracker = tracker = track.ColorTrack(binaryThreshold = 80, hueTolerance = 10,kernel = np.ones((5,5)),debug=True, nbr_colors=4)\n",
    "tracker.track('../img/shapes_colors/IMG_20200923_192942789.jpg')\n",
    "fim = time.time()\n",
    "print(fim - inicio)\n",
    "\n",
    "tracker.printRobotLocation()"
   ]
  },
  {
   "cell_type": "code",
   "execution_count": null,
   "metadata": {},
   "outputs": [],
   "source": [
    "tracker.printSegmentedImage()"
   ]
  }
 ],
 "metadata": {
  "kernelspec": {
   "display_name": "Python 3",
   "language": "python",
   "name": "python3"
  },
  "language_info": {
   "codemirror_mode": {
    "name": "ipython",
    "version": 3
   },
   "file_extension": ".py",
   "mimetype": "text/x-python",
   "name": "python",
   "nbconvert_exporter": "python",
   "pygments_lexer": "ipython3",
   "version": "3.8.3"
  }
 },
 "nbformat": 4,
 "nbformat_minor": 4
}
